{
 "cells": [
  {
   "cell_type": "code",
   "execution_count": 1,
   "metadata": {},
   "outputs": [],
   "source": [
    "import pandas as pd"
   ]
  },
  {
   "cell_type": "code",
   "execution_count": 2,
   "metadata": {},
   "outputs": [],
   "source": [
    "class Bayesian_Probability:\n",
    "    def __init__(self, d1, d2):\n",
    "        self.prob_XA = d1\n",
    "        self.prob_X  = d2"
   ]
  },
  {
   "cell_type": "code",
   "execution_count": 3,
   "metadata": {},
   "outputs": [
    {
     "data": {
      "text/plain": [
       "{'Type of Road': <__main__.Bayesian_Probability at 0x7f5a4eb092e8>,\n",
       " 'Drinking': <__main__.Bayesian_Probability at 0x7f5a4eb09940>,\n",
       " 'Type of Location': <__main__.Bayesian_Probability at 0x7f5a4eb09d68>,\n",
       " 'Type of Licence': <__main__.Bayesian_Probability at 0x7f5a4eb13240>,\n",
       " 'Type of Junction': <__main__.Bayesian_Probability at 0x7f5a4eb13668>,\n",
       " 'Type of Vehicle': <__main__.Bayesian_Probability at 0x7f5a4eb136a0>,\n",
       " 'Priors': <__main__.Bayesian_Probability at 0x7f5a4eb13d68>}"
      ]
     },
     "execution_count": 3,
     "metadata": {},
     "output_type": "execute_result"
    }
   ],
   "source": [
    "from pickle import load\n",
    "with open(\"./cleaned/Probs.dat\", \"rb\") as fh:\n",
    "    Probs = load(fh)\n",
    "Probs"
   ]
  },
  {
   "cell_type": "markdown",
   "metadata": {},
   "source": [
    "## Fix state names"
   ]
  },
  {
   "cell_type": "code",
   "execution_count": 4,
   "metadata": {},
   "outputs": [],
   "source": [
    "from collections import defaultdict\n",
    "state_map = defaultdict(list)   # to store alternate names"
   ]
  },
  {
   "cell_type": "code",
   "execution_count": 5,
   "metadata": {},
   "outputs": [],
   "source": [
    "state1 = sorted(Probs['Type of Road'].prob_XA.keys())\n",
    "state2 = sorted(Probs['Type of Road'].prob_X.keys())"
   ]
  },
  {
   "cell_type": "code",
   "execution_count": 6,
   "metadata": {
    "scrolled": true
   },
   "outputs": [
    {
     "name": "stdout",
     "output_type": "stream",
     "text": [
      "['a & n islands', 'andhra pradesh', 'arunachal pradesh', 'assam', 'bihar', 'chandigarh', 'chhattisgarh', 'd & n haveli', 'daman & diu', 'delhi', 'goa', 'gujarat', 'haryana', 'himachal pradesh', 'jammu & kashmir', 'jharkhand', 'karnataka', 'kerala', 'lakshadweep', 'madhya pradesh', 'maharashtra', 'manipur', 'meghalaya', 'mizoram', 'nagaland', 'orissa', 'puducherry', 'punjab', 'rajasthan', 'sikkim', 'tamil nadu', 'telangana', 'total', 'tripura', 'uttar pradesh', 'uttarakhand', 'west bengal']\n",
      "['andaman and nicobar islands', 'arunachal pradesh', 'assam', 'gujarat', 'himachal pradesh', 'jammu and kashmir', 'manipur', 'mizoram', 'nagaland', 'punjab', 'rajasthan', 'sikkim', 'total', 'tripura', 'uttarakhand', 'west bengal']\n"
     ]
    }
   ],
   "source": [
    "print(state1, state2, sep='\\n')"
   ]
  },
  {
   "cell_type": "code",
   "execution_count": 7,
   "metadata": {
    "scrolled": true
   },
   "outputs": [
    {
     "name": "stdout",
     "output_type": "stream",
     "text": [
      "['andaman and nicobar islands', 'andhra pradesh', 'arunachal pradesh', 'assam', 'bihar', 'chandigarh', 'chhattisgarh', 'dadra and nagar haveli', 'daman and diu', 'delhi', 'goa', 'gujarat', 'haryana', 'himachal pradesh', 'jammu and kashmir', 'jharkhand', 'karnataka', 'kerala', 'lakshadweep', 'madhya pradesh', 'maharashtra', 'manipur', 'meghalaya', 'mizoram', 'nagaland', 'odisha', 'puducherry', 'punjab', 'rajasthan', 'sikkim', 'tamil nadu', 'telangana', 'total', 'tripura', 'uttar pradesh', 'uttarakhand', 'west bengal']\n",
      "['andhra pradesh', 'bihar', 'gujarat', 'haryana', 'karnataka', 'maharashtra', 'others', 'punjab', 'tamil nadu & puducherry', 'telangana', 'uttar pradesh', 'uttarakhand']\n"
     ]
    }
   ],
   "source": [
    "state1 = sorted(Probs['Drinking'].prob_XA.keys())\n",
    "state2 = sorted(Probs['Drinking'].prob_X.keys())\n",
    "print(state1, state2, sep='\\n')"
   ]
  },
  {
   "cell_type": "code",
   "execution_count": 8,
   "metadata": {},
   "outputs": [
    {
     "name": "stdout",
     "output_type": "stream",
     "text": [
      "['a & n islands', 'andhra pradesh', 'arunachal pradesh', 'assam', 'bihar', 'chandigarh', 'chhattisgarh', 'd & n haveli', 'daman & diu', 'delhi', 'goa', 'gujarat', 'haryana', 'himachal pradesh', 'jammu & kashmir', 'jharkhand', 'karnataka', 'kerala', 'lakshadweep', 'madhya pradesh', 'maharashtra', 'manipur', 'meghalaya', 'mizoram', 'nagaland', 'orissa', 'puducherry', 'punjab', 'rajasthan', 'sikkim', 'tamil nadu', 'telangana', 'total', 'tripura', 'uttar pradesh', 'uttarakhand', 'west bengal']\n",
      "['learner', 'non-licensed', 'regular']\n"
     ]
    }
   ],
   "source": [
    "state1 = sorted(Probs['Type of Licence'].prob_XA.keys())\n",
    "state2 = sorted(Probs['Type of Licence'].prob_X.keys())\n",
    "print(state1, state2, sep='\\n')"
   ]
  },
  {
   "cell_type": "code",
   "execution_count": 9,
   "metadata": {
    "scrolled": true
   },
   "outputs": [
    {
     "name": "stdout",
     "output_type": "stream",
     "text": [
      "['a & n islands', 'andhra pradesh', 'arunachal pradesh', 'assam', 'bihar', 'chandigarh', 'chhattisgarh', 'd & n haveli', 'daman & diu', 'delhi', 'goa', 'gujarat', 'haryana', 'himachal pradesh', 'jammu & kashmir', 'jharkhand', 'karnataka', 'kerala', 'lakshadweep', 'madhya pradesh', 'maharashtra', 'manipur', 'meghalaya', 'mizoram', 'nagaland', 'orissa', 'puducherry', 'punjab', 'rajasthan', 'sikkim', 'tamil nadu', 'telangana', 'total', 'tripura', 'uttar pradesh', 'uttarakhand', 'west bengal']\n",
      "['bus-stop', 'enchroachment', 'hospital', 'industry/factory', 'market', 'narrow-bridge & curves', 'office', 'open area', 'pedestrian crossing', 'petrol pump', 'recreational place/ cinema', 'religious place', 'residential area', 'school/college', 'village']\n"
     ]
    }
   ],
   "source": [
    "state1 = sorted(Probs['Type of Location'].prob_XA.keys())\n",
    "state2 = sorted(Probs['Type of Location'].prob_X.keys())\n",
    "print(state1, state2, sep='\\n')"
   ]
  },
  {
   "cell_type": "code",
   "execution_count": 10,
   "metadata": {},
   "outputs": [
    {
     "name": "stdout",
     "output_type": "stream",
     "text": [
      "['andaman and nicobar islands', 'andhra pradesh', 'arunachal pradesh', 'assam', 'bihar', 'chandigarh', 'chhattisgarh', 'dadra and nagar haveli', 'daman and diu', 'delhi', 'goa', 'gujarat', 'haryana', 'himachal pradesh', 'jammu and kashmir', 'jharkhand', 'karnataka', 'kerala', 'lakshadweep', 'madhya pradesh', 'maharashtra', 'manipur', 'meghalaya', 'mizoram', 'nagaland', 'odisha', 'puducherry', 'punjab', 'rajasthan', 'sikkim', 'tamil nadu', 'total', 'tripura', 'uttar pradesh', 'uttarakhand', 'west bengal']\n",
      "['all india', 'andaman and nicobar islands', 'andhra pradesh', 'assam', 'bihar', 'chandigarh', 'chhattisgarh', 'dadra and nagar haveli', 'daman and diu', 'delhi', 'goa', 'gujarat', 'haryana', 'himachal pradesh', 'jammu and kashmir', 'jharkhand', 'karnataka', 'kerala', 'lakshadweep', 'madhya pradesh', 'maharashtra', 'manipur', 'meghalaya', 'mizoram', 'nagaland', 'odisha', 'puducherry', 'punjab', 'rajasthan', 'sikkim', 'tamil nadu', 'tripura', 'uttar pradesh', 'uttarakhand', 'west bengal']\n"
     ]
    }
   ],
   "source": [
    "state1 = sorted(Probs['Type of Vehicle'].prob_XA.keys())\n",
    "state2 = sorted(Probs['Type of Vehicle'].prob_X.keys())\n",
    "print(state1, state2, sep='\\n')"
   ]
  },
  {
   "cell_type": "code",
   "execution_count": 11,
   "metadata": {},
   "outputs": [],
   "source": [
    "default = ['total', 'others', 'all india']\n",
    "state_map['andaman and nicobar islands'].extend(['andaman and nicobar islands',\n",
    "                                                 'a & n islands', 'andaman and nicobar',\n",
    "                                                 'andaman & nicobar', 'a & n',\n",
    "                                                 'andaman & nicobar islands'])\n",
    "state_map['andhra pradesh'].extend(['andhra pradesh'])\n",
    "state_map['arunachal pradesh'].extend(['arunachal pradesh'])\n",
    "state_map['assam'].extend(['assam' ])\n",
    "state_map['bihar'].extend(['bihar' ])\n",
    "state_map['chandigarh'].extend(['chandigarh', 'punjab', 'haryana' ])\n",
    "state_map['chhattisgarh'].extend(['chhattisgarh' ])\n",
    "state_map['dadra & nagar haveli'].extend(['dadra & nagar haveli', 'd & n haveli',\n",
    "                                          'dadra and nagar haveli' ])\n",
    "state_map['daman & diu'].extend(['daman & diu', 'daman and diu' ])\n",
    "state_map['delhi'].extend(['delhi', 'new delhi', 'nct of delhi' ])\n",
    "state_map['goa'].extend(['goa' ])\n",
    "state_map['gujarat'].extend(['gujarat' ])\n",
    "state_map['haryana'].extend(['haryana' ])\n",
    "state_map['himachal pradesh'].extend(['himachal pradesh', 'himachal' ])\n",
    "state_map['jammu & kashmir'].extend(['jammu & kashmir', 'jammu and kashmir',\n",
    "                                     'j & k' ])\n",
    "state_map['jharkhand'].extend(['jharkhand' ])\n",
    "state_map['karnataka'].extend(['karnataka', 'karnatak' ])\n",
    "state_map['kerala'].extend(['kerala', 'keral' ])\n",
    "state_map['lakshadweep'].extend(['lakshadweep' ])\n",
    "state_map['madhya pradesh'].extend(['madhya pradesh', 'm.p.', 'mp' ])\n",
    "state_map['maharashtra'].extend(['maharashtra' ])\n",
    "state_map['manipur'].extend(['manipur' ])\n",
    "state_map['meghalaya'].extend(['meghalaya' ])\n",
    "state_map['mizoram'].extend(['mizoram' ])\n",
    "state_map['nagaland'].extend(['nagaland' ])\n",
    "state_map['orissa'].extend(['orissa', 'odisha', 'odhisha' ])\n",
    "state_map['puducherry'].extend(['puducherry', 'pudducherry', 'pondicherri',\n",
    "                                'tamil nadu & puducherry' ])\n",
    "state_map['punjab'].extend(['punjab' ])\n",
    "state_map['rajasthan'].extend(['rajasthan' ])\n",
    "state_map['sikkim'].extend(['sikkim' ])\n",
    "state_map['tamil nadu'].extend(['tamil nadu', 't. nadu', 't nadu', 'tn',\n",
    "                                'tamil nadu & puducherry'])\n",
    "state_map['telangana'].extend(['telangana', 'andhra pradesh' ])\n",
    "state_map['tripura'].extend(['tripura' ])\n",
    "state_map['uttar pradesh'].extend(['uttar pradesh', 'u.p.', 'up' ])\n",
    "state_map['uttarakhand'].extend(['uttarakhand' ])\n",
    "state_map['west bengal'].extend(['west bengal', 'w. bengal', 'w bengal', 'bengal',\n",
    "                                 'west bangal', 'w bangal', 'w. bangal', 'bangal'])"
   ]
  },
  {
   "cell_type": "code",
   "execution_count": 12,
   "metadata": {
    "scrolled": true
   },
   "outputs": [
    {
     "data": {
      "text/plain": [
       "{'andaman and nicobar islands': ['andaman and nicobar islands',\n",
       "  'a & n islands',\n",
       "  'andaman and nicobar',\n",
       "  'andaman & nicobar',\n",
       "  'a & n',\n",
       "  'total',\n",
       "  'others',\n",
       "  'all india'],\n",
       " 'andhra pradesh': ['andhra pradesh', 'total', 'others', 'all india'],\n",
       " 'arunachal pradesh': ['arunachal pradesh', 'total', 'others', 'all india'],\n",
       " 'assam': ['assam', 'total', 'others', 'all india'],\n",
       " 'bihar': ['bihar', 'total', 'others', 'all india'],\n",
       " 'chandigarh': ['chandigarh',\n",
       "  'punjab',\n",
       "  'haryana',\n",
       "  'total',\n",
       "  'others',\n",
       "  'all india'],\n",
       " 'chhattisgarh': ['chhattisgarh', 'total', 'others', 'all india'],\n",
       " 'dadra & nagar haveli': ['dadra & nagar haveli',\n",
       "  'd & n haveli',\n",
       "  'dadra and nagar haveli',\n",
       "  'total',\n",
       "  'others',\n",
       "  'all india'],\n",
       " 'daman & diu': ['daman & diu',\n",
       "  'daman and diu',\n",
       "  'total',\n",
       "  'others',\n",
       "  'all india'],\n",
       " 'delhi': ['delhi',\n",
       "  'new delhi',\n",
       "  'nct of delhi',\n",
       "  'total',\n",
       "  'others',\n",
       "  'all india'],\n",
       " 'goa': ['goa', 'total', 'others', 'all india'],\n",
       " 'gujarat': ['gujarat', 'total', 'others', 'all india'],\n",
       " 'haryana': ['haryana', 'total', 'others', 'all india'],\n",
       " 'himachal pradesh': ['himachal pradesh',\n",
       "  'himachal',\n",
       "  'total',\n",
       "  'others',\n",
       "  'all india'],\n",
       " 'jammu & kashmir': ['jammu & kashmir',\n",
       "  'jammu and kashmir',\n",
       "  'j & k',\n",
       "  'total',\n",
       "  'others',\n",
       "  'all india'],\n",
       " 'jharkhand': ['jharkhand', 'total', 'others', 'all india'],\n",
       " 'karnataka': ['karnataka', 'karnatak', 'total', 'others', 'all india'],\n",
       " 'kerala': ['kerala', 'keral', 'total', 'others', 'all india'],\n",
       " 'lakshadweep': ['lakshadweep', 'total', 'others', 'all india'],\n",
       " 'madhya pradesh': ['madhya pradesh',\n",
       "  'm.p.',\n",
       "  'mp',\n",
       "  'total',\n",
       "  'others',\n",
       "  'all india'],\n",
       " 'maharashtra': ['maharashtra', 'total', 'others', 'all india'],\n",
       " 'manipur': ['manipur', 'total', 'others', 'all india'],\n",
       " 'meghalaya': ['meghalaya', 'total', 'others', 'all india'],\n",
       " 'mizoram': ['mizoram', 'total', 'others', 'all india'],\n",
       " 'nagaland': ['nagaland', 'total', 'others', 'all india'],\n",
       " 'orissa': ['orissa', 'odisha', 'odhisha', 'total', 'others', 'all india'],\n",
       " 'puducherry': ['puducherry',\n",
       "  'pudducherry',\n",
       "  'pondicherri',\n",
       "  'tamil nadu & puducherry',\n",
       "  'total',\n",
       "  'others',\n",
       "  'all india'],\n",
       " 'punjab': ['punjab', 'total', 'others', 'all india'],\n",
       " 'rajasthan': ['rajasthan', 'total', 'others', 'all india'],\n",
       " 'sikkim': ['sikkim', 'total', 'others', 'all india'],\n",
       " 'tamil nadu': ['tamil nadu',\n",
       "  't. nadu',\n",
       "  't nadu',\n",
       "  'tn',\n",
       "  'tamil nadu & puducherry',\n",
       "  'total',\n",
       "  'others',\n",
       "  'all india'],\n",
       " 'telangana': ['telangana', 'andhra pradesh', 'total', 'others', 'all india'],\n",
       " 'tripura': ['tripura', 'total', 'others', 'all india'],\n",
       " 'uttar pradesh': ['uttar pradesh',\n",
       "  'u.p.',\n",
       "  'up',\n",
       "  'total',\n",
       "  'others',\n",
       "  'all india'],\n",
       " 'uttarakhand': ['uttarakhand', 'total', 'others', 'all india'],\n",
       " 'west bengal': ['west bengal',\n",
       "  'w. bengal',\n",
       "  'w bengal',\n",
       "  'bengal',\n",
       "  'west bangal',\n",
       "  'w bangal',\n",
       "  'w. bangal',\n",
       "  'bangal',\n",
       "  'total',\n",
       "  'others',\n",
       "  'all india']}"
      ]
     },
     "execution_count": 12,
     "metadata": {},
     "output_type": "execute_result"
    }
   ],
   "source": [
    "for k in state_map:\n",
    "    state_map[k].extend(default)\n",
    "state_map = dict(state_map)\n",
    "state_map"
   ]
  },
  {
   "cell_type": "code",
   "execution_count": 13,
   "metadata": {},
   "outputs": [],
   "source": [
    "from pickle import dump\n",
    "with open(\"./cleaned/state-map.dat\", 'wb') as fh:\n",
    "    dump(state_map, fh)"
   ]
  },
  {
   "cell_type": "markdown",
   "metadata": {},
   "source": [
    "Class with functions to fetch probabilities given state and attribute type"
   ]
  },
  {
   "cell_type": "markdown",
   "metadata": {},
   "source": [
    "# Bayesian Probability\n",
    "\n",
    "Let A = event of accident, and no. of features X1, X2,..,Xn. Then Bayesian Probability of A happening, given the features X1,..,Xn, is:\n",
    "\n",
    "P(A | X1, X2,.., Xn) = P(A, X1, X2,.., Xn) / P(X1, X2,.., Xn)\n",
    "\n",
    "we can write the numerator i.e.\n",
    "\n",
    "P(A, X1, X2,.., Xn) = P(X1,.., Xn, A) = P(X1 | X2,.., Xn, A) * P(X2,.., Xn, A)\n",
    "\n",
    "... = P(X1 | X2,.., Xn, A) * P(X2 | X3,.., Xn, A) * ... * P(X(n-1) | Xn, A) * P(Xn | A) * P(A)\n",
    "\n",
    "as X1, X2,.., Xn are considered independent, hence we can write:\n",
    "\n",
    "P(Xi | X(i+1),.., Xn, A)  = P(Xi | A)\n",
    "\n",
    "Therefore, the numerator can be written as:\n",
    "\n",
    "P(A, X1, X2,.., Xn) = P(A) * P(X1 | A) * P(X2 | A) * ... * P(Xn | A) = P(A) * Π P(Xi | A)\n",
    "\n",
    "and the Bayesian Probability is given by:\n",
    "\n",
    "P(A | X1, X2,.., Xn) = P(A) * Π P(Xi | A) / ( P(X1) * P(X2) * .. * P(Xn) )"
   ]
  },
  {
   "cell_type": "code",
   "execution_count": 24,
   "metadata": {},
   "outputs": [],
   "source": [
    "from decimal import Decimal"
   ]
  },
  {
   "cell_type": "code",
   "execution_count": 25,
   "metadata": {},
   "outputs": [],
   "source": [
    "class NaiveBayes:\n",
    "    def __init__(self, Probs, state_map):\n",
    "        self.Probs = Probs\n",
    "        self.state_map = state_map\n",
    "    \n",
    "    @staticmethod\n",
    "    def get_state_prob(d, state, state_map):\n",
    "        for s in state_map[state]:\n",
    "            if s in d:\n",
    "                return d[s]\n",
    "    \n",
    "    def road_prob(self, state, type_of_road):\n",
    "        pxa = __class__.get_state_prob(self.Probs['Type of Road'].prob_XA, \n",
    "                             state, self.state_map)[type_of_road]\n",
    "        px = __class__.get_state_prob(self.Probs['Type of Road'].prob_X,\n",
    "                            state, self.state_map)[type_of_road]\n",
    "        if pxa == 0 or px == 0:\n",
    "            return 1\n",
    "        return Decimal(pxa)/Decimal(px)\n",
    "\n",
    "    def location_prob(self, state, location):\n",
    "        pxa = __class__.get_state_prob(self.Probs['Type of Location'].prob_XA, \n",
    "                             state, self.state_map)[location]\n",
    "        px = self.Probs['Type of Location'].prob_X[location]\n",
    "        if pxa == 0 or px == 0:\n",
    "            return 1\n",
    "        return Decimal(pxa)/Decimal(px)\n",
    "        \n",
    "    def licence_prob(self, state, licence):\n",
    "        pxa = __class__.get_state_prob(self.Probs['Type of Licence'].prob_XA, \n",
    "                             state, self.state_map)[licence]\n",
    "        px = self.Probs['Type of Licence'].prob_X[licence]\n",
    "        if pxa == 0 or px == 0:\n",
    "            return 1\n",
    "        return Decimal(pxa)/Decimal(px)\n",
    "    \n",
    "    def vehicle_prob(self, state, vehicle):\n",
    "        pxa = __class__.get_state_prob(self.Probs['Type of Vehicle'].prob_XA, \n",
    "                             state, self.state_map)[vehicle]\n",
    "        px = __class__.get_state_prob(self.Probs['Type of Vehicle'].prob_X,\n",
    "                            state, self.state_map)[vehicle]\n",
    "        if pxa == 0 or px == 0:\n",
    "            return 1\n",
    "        return Decimal(pxa)/Decimal(px)\n",
    "    \n",
    "    def alcohol_prob(self, state, drunk_or_not):\n",
    "        pxa = __class__.get_state_prob(self.Probs['Drinking'].prob_XA, \n",
    "                             state, self.state_map)[drunk_or_not]\n",
    "        px = __class__.get_state_prob(self.Probs['Drinking'].prob_X,\n",
    "                            state, self.state_map)[drunk_or_not]\n",
    "        if pxa == 0 or px == 0:\n",
    "            return 1\n",
    "        return Decimal(pxa)/Decimal(px)\n",
    "    \n",
    "    def junction_prob(self, junction):\n",
    "        pxa = self.Probs['Type of Junction'].prob_XA[junction]\n",
    "        px = self.Probs['Type of Junction'].prob_X[junction]\n",
    "        if pxa == 0 or px == 0:\n",
    "            return 1\n",
    "        return Decimal(pxa)/Decimal(px)\n",
    "    \n",
    "    def prior_prob(self, state):\n",
    "        return Decimal(__class__.get_state_prob(self.Probs['Priors'].prob_XA,\n",
    "                                                state, self.state_map))\n",
    "    \n",
    "    def get_probability(self, state, type_of_road, location, \n",
    "                        licence, vehicle, drunk=False, junction=None):\n",
    "        p_road = self.road_prob(state, type_of_road)\n",
    "        p_loc = self.location_prob(state, location)\n",
    "        p_lic = self.licence_prob(state, licence)\n",
    "        p_veh = self.vehicle_prob(state, vehicle)\n",
    "        p_prior = self.prior_prob(state)\n",
    "        P = p_road * p_loc * p_lic * p_veh * p_prior\n",
    "        if drunk:\n",
    "            P *= self.alcohol_prob(state, 'Drunk')\n",
    "        if junction is not None:\n",
    "            P *= self.junction_prob(junction)\n",
    "        return P"
   ]
  },
  {
   "cell_type": "code",
   "execution_count": 26,
   "metadata": {},
   "outputs": [],
   "source": [
    "predictor = NaiveBayes(Probs, state_map)"
   ]
  },
  {
   "cell_type": "code",
   "execution_count": 65,
   "metadata": {},
   "outputs": [
    {
     "name": "stdout",
     "output_type": "stream",
     "text": [
      "0.53%\n"
     ]
    }
   ],
   "source": [
    "p = predictor.get_probability('delhi', 'Unsurfaced', 'enchroachment', 'regular',\n",
    "                          'trucks, tempos, mavs, tractors')*100\n",
    "print(\"%.2f%%\"%p)"
   ]
  },
  {
   "cell_type": "code",
   "execution_count": null,
   "metadata": {},
   "outputs": [],
   "source": []
  }
 ],
 "metadata": {
  "kernelspec": {
   "display_name": "Python 3",
   "language": "python",
   "name": "python3"
  },
  "language_info": {
   "codemirror_mode": {
    "name": "ipython",
    "version": 3
   },
   "file_extension": ".py",
   "mimetype": "text/x-python",
   "name": "python",
   "nbconvert_exporter": "python",
   "pygments_lexer": "ipython3",
   "version": "3.6.9"
  }
 },
 "nbformat": 4,
 "nbformat_minor": 2
}
